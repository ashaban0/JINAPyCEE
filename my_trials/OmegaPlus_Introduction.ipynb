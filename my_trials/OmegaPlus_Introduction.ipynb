{
 "cells": [
  {
   "cell_type": "markdown",
   "id": "e9d86efa-28ee-4312-80df-58cc27fb8589",
   "metadata": {},
   "source": [
    "# Introduction to OMEGA+\n",
    "From [Cote et al. (2018)](http://adsabs.harvard.edu/abs/2017arXiv171006442C)"
   ]
  },
  {
   "cell_type": "code",
   "execution_count": 1,
   "id": "7bbd3a61-7374-4107-90b3-953306d2c9d9",
   "metadata": {},
   "outputs": [
    {
     "ename": "ModuleNotFoundError",
     "evalue": "No module named 'NuPyCEE'",
     "output_type": "error",
     "traceback": [
      "\u001b[0;31m---------------------------------------------------------------------------\u001b[0m",
      "\u001b[0;31mModuleNotFoundError\u001b[0m                       Traceback (most recent call last)",
      "Cell \u001b[0;32mIn[1], line 7\u001b[0m\n\u001b[1;32m      4\u001b[0m \u001b[38;5;28;01mimport\u001b[39;00m \u001b[38;5;21;01mnumpy\u001b[39;00m \u001b[38;5;28;01mas\u001b[39;00m \u001b[38;5;21;01mnp\u001b[39;00m\n\u001b[1;32m      6\u001b[0m \u001b[38;5;66;03m# import the OMEGA+ module\u001b[39;00m\n\u001b[0;32m----> 7\u001b[0m \u001b[38;5;28;01mfrom\u001b[39;00m \u001b[38;5;21;01mJINAPyCEE\u001b[39;00m \u001b[38;5;28;01mimport\u001b[39;00m omega_plus\n",
      "File \u001b[0;32m~/python/JINAPyCEE/omega_plus.py:54\u001b[0m\n\u001b[1;32m     51\u001b[0m nupy_path \u001b[38;5;241m=\u001b[39m os\u001b[38;5;241m.\u001b[39mpath\u001b[38;5;241m.\u001b[39mjoin(nupy_path, \u001b[38;5;124m\"\u001b[39m\u001b[38;5;124mNuPyCEE\u001b[39m\u001b[38;5;124m\"\u001b[39m)\n\u001b[1;32m     53\u001b[0m \u001b[38;5;66;03m# Import NuPyCEE codes\u001b[39;00m\n\u001b[0;32m---> 54\u001b[0m \u001b[38;5;28;01mimport\u001b[39;00m \u001b[38;5;21;01mNuPyCEE\u001b[39;00m\u001b[38;5;21;01m.\u001b[39;00m\u001b[38;5;21;01mread_yields\u001b[39;00m \u001b[38;5;28;01mas\u001b[39;00m \u001b[38;5;21;01mry\u001b[39;00m\n\u001b[1;32m     55\u001b[0m \u001b[38;5;28;01mimport\u001b[39;00m \u001b[38;5;21;01mNuPyCEE\u001b[39;00m\u001b[38;5;21;01m.\u001b[39;00m\u001b[38;5;21;01momega\u001b[39;00m \u001b[38;5;28;01mas\u001b[39;00m \u001b[38;5;21;01momega\u001b[39;00m\n\u001b[1;32m     58\u001b[0m \u001b[38;5;66;03m#####################\u001b[39;00m\n\u001b[1;32m     59\u001b[0m \u001b[38;5;66;03m# Class Declaration #\u001b[39;00m\n\u001b[1;32m     60\u001b[0m \u001b[38;5;66;03m#####################\u001b[39;00m\n",
      "\u001b[0;31mModuleNotFoundError\u001b[0m: No module named 'NuPyCEE'"
     ]
    }
   ],
   "source": [
    "# import python modules\n",
    "import matplotlib\n",
    "import matplotlib.pyplot as plt\n",
    "import numpy as np\n",
    "\n",
    "# import the OMEGA+ module\n",
    "from JINAPyCEE import omega_plus"
   ]
  },
  {
   "cell_type": "code",
   "execution_count": null,
   "id": "b43ccd9e-c32f-4427-9fb2-3d348c8c9da5",
   "metadata": {},
   "outputs": [],
   "source": []
  }
 ],
 "metadata": {
  "kernelspec": {
   "display_name": "Python 3 (ipykernel)",
   "language": "python",
   "name": "python3"
  },
  "language_info": {
   "codemirror_mode": {
    "name": "ipython",
    "version": 3
   },
   "file_extension": ".py",
   "mimetype": "text/x-python",
   "name": "python",
   "nbconvert_exporter": "python",
   "pygments_lexer": "ipython3",
   "version": "3.11.7"
  }
 },
 "nbformat": 4,
 "nbformat_minor": 5
}
